{
 "cells": [
  {
   "cell_type": "code",
   "execution_count": 54,
   "metadata": {},
   "outputs": [],
   "source": [
    "import numpy as np\n",
    "from IPython import display\n",
    "import time\n",
    "import matplotlib.pyplot as plt"
   ]
  },
  {
   "cell_type": "markdown",
   "metadata": {},
   "source": [
    "### Упражнение 1"
   ]
  },
  {
   "cell_type": "code",
   "execution_count": 64,
   "metadata": {},
   "outputs": [
    {
     "data": {
      "image/png": "[encoded data removed]",
      "text/plain": [
       "<Figure size 504x288 with 1 Axes>"
      ]
     },
     "metadata": {
      "needs_background": "light"
     },
     "output_type": "display_data"
    },
    {
     "name": "stdout",
     "output_type": "stream",
     "text": [
      "Numpy is in average 87.4459720082103 times faster!\n"
     ]
    }
   ],
   "source": [
    "n = 1000\n",
    "\n",
    "def python():\n",
    "    start = time.time()\n",
    "    Z_pyt = [[2 * X_pyt[i][j] ** 2 + 4 * Y_pyt[i][j] for j in range(n)] for i in range(n)]\n",
    "    return time.time() - start\n",
    "\n",
    "def numpy():\n",
    "    start = time.time()\n",
    "    Z_num = 2 * X_num ** 2 + 4* Y_num\n",
    "    return time.time() - start\n",
    "\n",
    "t_pyt, t_num = [], []\n",
    "\n",
    "for _ in range(10):\n",
    "    X_pyt = [[round(np.random.rand() * 100) for _ in range(n)] for _ in range(n)]\n",
    "    Y_pyt = [[round(np.random.rand() * 100) for _ in range(n)] for _ in range(n)]\n",
    "    \n",
    "    X_num = np.array(X_pyt)\n",
    "    Y_num = np.array(Y_pyt)\n",
    "    \n",
    "    t_pyt.append(python())\n",
    "    t_num.append(numpy())\n",
    "\n",
    "fig, ax = plt.subplots()\n",
    "\n",
    "ax.plot(t_pyt, label = 'Python time', marker='o', c='b')\n",
    "ax.plot(t_num, label = 'Numpy time', marker='o', c='r')\n",
    "\n",
    "ax.legend()\n",
    "\n",
    "plt.xlabel('Task number')\n",
    "plt.ylabel('Calculating time')\n",
    "fig.set_figheight(4)\n",
    "fig.set_figwidth(7)\n",
    "plt.show()\n",
    "\n",
    "print(\"Numpy is in average {} times faster!\".format(np.mean(np.array(t_pyt) / np.array(t_num))))"
   ]
  },
  {
   "cell_type": "markdown",
   "metadata": {},
   "source": [
    "### Упражнение 2"
   ]
  },
  {
   "cell_type": "code",
   "execution_count": 69,
   "metadata": {},
   "outputs": [
    {
     "name": "stdout",
     "output_type": "stream",
     "text": [
      "[ 3  5  7  9 11 13 15 17 19 21 23 25 27 29 31 33 35 37 39 41 43 45 47 49\n",
      " 51 53 55 57 59 61 63 65 67 69 71 73 75]\n",
      "[ 2 -1  4 -1  6 -1  8 -1 10 -1 12 -1 14 -1 16 -1 18 -1 20 -1 22 -1 24 -1\n",
      " 26 -1 28 -1 30 -1 32 -1 34 -1 36 -1 38 -1 40 -1 42 -1 44 -1 46 -1 48 -1\n",
      " 50 -1 52 -1 54 -1 56 -1 58 -1 60 -1 62 -1 64 -1 66 -1 68 -1 70 -1 72 -1\n",
      " 74 -1]\n"
     ]
    }
   ],
   "source": [
    "mass = np.arange(2, 76)\n",
    "mask = mass % 2 == 1\n",
    "print(mass[mask])\n",
    "\n",
    "mass[mask] = -1\n",
    "print(mass)"
   ]
  },
  {
   "cell_type": "markdown",
   "metadata": {},
   "source": [
    "### Упражнение 3"
   ]
  },
  {
   "cell_type": "code",
   "execution_count": 78,
   "metadata": {},
   "outputs": [
    {
     "data": {
      "text/plain": [
       "array([  0.,   1.,   2.,   3.,   4.,   5.,   6.,   7.,   8.,   9.,  11.,\n",
       "        12.,  13.,  14.,  15.,  16.,  17.,  18.,  19.,  21.,  22.,  23.,\n",
       "        24.,  25.,  26.,  27.,  28.,  29.,  31.,  32.,  33.,  34.,  35.,\n",
       "        36.,  37.,  38.,  39.,  41.,  42.,  43.,  44.,  45.,  46.,  47.,\n",
       "        48.,  49.,  50.,  51.,  52.,  53.,  54.,  55.,  56.,  57.,  58.,\n",
       "        59.,  60.,  61.,  62.,  63.,  64.,  65.,  66.,  67.,  68.,  69.,\n",
       "        70.,  71.,  72.,  73.,  74.,  75.,  76.,  77.,  78.,  79.,  80.,\n",
       "        81.,  82.,  83.,  84.,  85.,  86.,  87.,  88.,  89.,  90.,  91.,\n",
       "        92.,  93.,  94.,  95.,  96.,  97.,  98.,  99., 100.])"
      ]
     },
     "execution_count": 78,
     "metadata": {},
     "output_type": "execute_result"
    }
   ],
   "source": [
    "#Нашёл пока только функцию, которая оставляет сортированный одномерный массив уникальных значений из первого массива\n",
    "#за вычетом значений, которые есть во втором массиве\n",
    "\n",
    "arr_1 = np.round(np.random.random(1000) * 100).reshape(100, 10)\n",
    "arr_2 = np.array([10, 20, 30, 40])\n",
    "\n",
    "np.setdiff1d(arr_1, arr_2)"
   ]
  },
  {
   "cell_type": "markdown",
   "metadata": {},
   "source": [
    "### Упражнение 4"
   ]
  },
  {
   "cell_type": "code",
   "execution_count": 100,
   "metadata": {},
   "outputs": [],
   "source": [
    "n = np.random.randint(10, 101)\n",
    "\n",
    "arr = np.random.random(n**2).reshape(n, n)\n",
    "\n",
    "max_elem = np.max(arr)\n",
    "\n",
    "arr_elem_sum = np.sum(arr)\n",
    "\n",
    "norm_arr = arr / arr_elem_sum\n",
    "\n",
    "#пока не знаю, как без цикла строчки массива перебрать...\n",
    "for idx in range(arr.shape[0]):\n",
    "    string_mean = np.mean(arr[idx])\n",
    "    arr[idx] -= string_mean\n",
    "    \n",
    "arr[arr == np.max(arr)] = -1"
   ]
  },
  {
   "cell_type": "markdown",
   "metadata": {},
   "source": [
    "### Упражнение 5"
   ]
  },
  {
   "cell_type": "code",
   "execution_count": 276,
   "metadata": {},
   "outputs": [
    {
     "data": {
      "text/plain": [
       "array([[ 3.        ,  1.        ,  2.        ,  3.        ,  4.        ,\n",
       "         5.        ,  6.        ,  7.        ,  8.        ,  9.        ],\n",
       "       [ 3.        ,  4.        ,  6.53571429,  6.53571429,  6.53571429,\n",
       "         6.53571429,  6.53571429,  6.53571429,  6.53571429,  6.53571429],\n",
       "       [ 4.        ,  6.53571429,  5.        ,  6.53571429,  6.53571429,\n",
       "         6.53571429,  6.53571429,  6.53571429,  6.53571429,  6.53571429],\n",
       "       [ 5.        ,  6.53571429,  6.53571429,  6.        ,  6.53571429,\n",
       "         6.53571429,  6.53571429,  6.53571429,  6.53571429,  6.53571429],\n",
       "       [ 6.        ,  6.53571429,  6.53571429,  6.53571429,  7.        ,\n",
       "         6.53571429,  6.53571429,  6.53571429,  6.53571429,  6.53571429],\n",
       "       [ 7.        ,  6.53571429,  6.53571429,  6.53571429,  6.53571429,\n",
       "         8.        ,  6.53571429,  6.53571429,  6.53571429,  6.53571429],\n",
       "       [ 8.        ,  6.53571429,  6.53571429,  6.53571429,  6.53571429,\n",
       "         6.53571429,  9.        ,  6.53571429,  6.53571429,  6.53571429],\n",
       "       [ 9.        ,  6.53571429,  6.53571429,  6.53571429,  6.53571429,\n",
       "         6.53571429,  6.53571429, 10.        ,  6.53571429,  6.53571429],\n",
       "       [10.        ,  6.53571429,  6.53571429,  6.53571429,  6.53571429,\n",
       "         6.53571429,  6.53571429,  6.53571429, 11.        ,  6.53571429],\n",
       "       [11.        ,  6.53571429,  6.53571429,  6.53571429,  6.53571429,\n",
       "         6.53571429,  6.53571429,  6.53571429,  6.53571429, 12.        ]])"
      ]
     },
     "execution_count": 276,
     "metadata": {},
     "output_type": "execute_result"
    }
   ],
   "source": [
    "def nan_fill_func(arr):\n",
    "    arr_mean = np.mean(arr[np.invert(np.isnan(arr))])\n",
    "    if np.isnan(arr_mean):\n",
    "        return np.zeros_like(arr)\n",
    "    else:\n",
    "        return np.where(np.isnan(arr), np.full_like(arr, arr_mean), arr)\n",
    "\n",
    "arr = np.array([np.nan for _ in range(100)]).reshape(10, 10)\n",
    "for i in range(10):\n",
    "    arr[0, i] = i\n",
    "    arr[i, 0] = i + 2\n",
    "    arr[i, i] = i + 3\n",
    "\n",
    "nan_fill_func(arr)"
   ]
  },
  {
   "cell_type": "markdown",
   "metadata": {},
   "source": [
    "### Упражнение 6"
   ]
  },
  {
   "cell_type": "code",
   "execution_count": 277,
   "metadata": {},
   "outputs": [
    {
     "data": {
      "text/plain": [
       "array([[0.41708543, 0.79396985, 0.34673367, 0.58291457, 0.97487437,\n",
       "        0.64321608, 0.59798995, 0.94472362, 0.49748744, 0.10050251],\n",
       "       [0.05527638, 0.2361809 , 0.9798995 , 0.05527638, 0.17085427,\n",
       "        0.84422111, 0.63819095, 0.83417085, 0.72361809, 0.0201005 ],\n",
       "       [0.80904523, 0.96984925, 0.64321608, 0.28643216, 0.70351759,\n",
       "        0.95979899, 0.32663317, 0.7839196 , 0.75879397, 0.00502513],\n",
       "       [1.        , 0.46733668, 0.24623116, 0.98994975, 0.15577889,\n",
       "        0.37688442, 0.3919598 , 0.98492462, 0.36683417, 0.18592965],\n",
       "       [0.04522613, 0.20100503, 0.34673367, 0.14070352, 0.86432161,\n",
       "        0.76884422, 0.50753769, 0.08040201, 0.59798995, 0.82914573],\n",
       "       [0.65326633, 0.08040201, 0.90954774, 0.3919598 , 0.57788945,\n",
       "        0.55276382, 0.51256281, 0.97487437, 0.24120603, 0.76884422],\n",
       "       [0.66834171, 0.03015075, 0.18090452, 0.22110553, 0.16080402,\n",
       "        0.04020101, 0.11055276, 0.64824121, 0.90452261, 0.77386935],\n",
       "       [0.36180905, 0.67839196, 0.        , 0.06030151, 0.57286432,\n",
       "        0.47236181, 0.86432161, 0.32663317, 0.96482412, 0.14070352],\n",
       "       [0.34170854, 0.99497487, 0.19095477, 0.29648241, 0.64824121,\n",
       "        0.3919598 , 0.94472362, 0.86432161, 0.22110553, 0.59798995],\n",
       "       [0.85929648, 0.88442211, 0.91959799, 0.46231156, 0.07537688,\n",
       "        0.93467337, 0.79899497, 0.01507538, 0.7839196 , 0.89949749]])"
      ]
     },
     "execution_count": 277,
     "metadata": {},
     "output_type": "execute_result"
    }
   ],
   "source": [
    "def normalizing_func(arr):\n",
    "    arr_min = np.min(arr)\n",
    "    if arr_min < 0:\n",
    "        arr -= arr_min\n",
    "    arr_max = np.max(arr)\n",
    "    return arr / arr_max\n",
    "\n",
    "arr = np.random.randint(-100, 100, 100).reshape(10, 10)\n",
    "\n",
    "normalizing_func(arr)"
   ]
  },
  {
   "cell_type": "markdown",
   "metadata": {},
   "source": [
    "### Упражнение 7"
   ]
  },
  {
   "cell_type": "code",
   "execution_count": 198,
   "metadata": {},
   "outputs": [],
   "source": [
    "np.save('saved_array', arr) #сохраняю массив из 5-го упражнения\n",
    "\n",
    "del arr"
   ]
  },
  {
   "cell_type": "code",
   "execution_count": 199,
   "metadata": {},
   "outputs": [
    {
     "ename": "NameError",
     "evalue": "name 'arr' is not defined",
     "output_type": "error",
     "traceback": [
      "\u001b[1;31m---------------------------------------------------------------------------\u001b[0m",
      "\u001b[1;31mNameError\u001b[0m                                 Traceback (most recent call last)",
      "\u001b[1;32m<ipython-input-199-24a6d41c5b66>\u001b[0m in \u001b[0;36m<module>\u001b[1;34m\u001b[0m\n\u001b[1;32m----> 1\u001b[1;33m \u001b[0marr\u001b[0m\u001b[1;33m\u001b[0m\u001b[1;33m\u001b[0m\u001b[0m\n\u001b[0m",
      "\u001b[1;31mNameError\u001b[0m: name 'arr' is not defined"
     ]
    }
   ],
   "source": [
    "arr #убеждаюсь, что переменная не определена"
   ]
  },
  {
   "cell_type": "code",
   "execution_count": 278,
   "metadata": {},
   "outputs": [
    {
     "data": {
      "text/plain": [
       "array([[136, 157,  45,  10,   5, 112,  42, 151, 198,  34],\n",
       "       [196,  35,  88, 178, 121,   0,  83, 186, 132, 104],\n",
       "       [ 38, 129, 157,  22,  75,  93,  28, 194,   2,  41],\n",
       "       [135, 122, 105, 110,   0, 194, 116,  34, 112, 194],\n",
       "       [  8, 169, 125, 195,  30,  16, 120, 193, 174, 172],\n",
       "       [128,  58, 125, 154, 124, 105, 109, 187, 126,  84],\n",
       "       [184,  77, 113, 160, 159, 171, 178,  80, 185, 163],\n",
       "       [ 15, 120, 131, 149,  32, 180,  26,  13,  61, 189],\n",
       "       [ 79, 151, 126,  64, 152, 137,  57,  58, 190,  28],\n",
       "       [198, 101, 103, 147, 191,   5,  52,   8,  26,  57]])"
      ]
     },
     "execution_count": 278,
     "metadata": {},
     "output_type": "execute_result"
    }
   ],
   "source": [
    "arr = np.load('saved_array.npy') #загружаю массив\n",
    "arr"
   ]
  },
  {
   "cell_type": "markdown",
   "metadata": {},
   "source": [
    "### Упражнение 8"
   ]
  },
  {
   "cell_type": "code",
   "execution_count": 235,
   "metadata": {},
   "outputs": [],
   "source": [
    "#создаю случайный массив\n",
    "random_array = np.random.random(100).reshape(10, 10)"
   ]
  },
  {
   "cell_type": "code",
   "execution_count": 236,
   "metadata": {},
   "outputs": [
    {
     "data": {
      "text/plain": [
       "0.9194856628425072"
      ]
     },
     "execution_count": 236,
     "metadata": {},
     "output_type": "execute_result"
    }
   ],
   "source": [
    "#выбираю два случайных индекса\n",
    "#элемент случайного массива с этими индексами будет данным\n",
    "i, j = np.random.randint(0, 10), np.random.randint(0, 10)\n",
    "given_elem = random_array[i, j]\n",
    "given_elem"
   ]
  },
  {
   "cell_type": "code",
   "execution_count": 237,
   "metadata": {},
   "outputs": [
    {
     "data": {
      "text/plain": [
       "array([[0.11545982, 0.87961758, 0.88251598, 0.30931458, 0.43430145,\n",
       "        0.48891963, 0.66933874, 0.53165228, 0.74680902, 0.86197315],\n",
       "       [0.98362203, 0.47295358, 0.45115252, 0.98823171, 0.52802544,\n",
       "        0.72941933, 0.18396343, 0.30044201, 0.24187506, 0.12442949],\n",
       "       [0.17537179, 0.02012289, 0.63841994, 0.83863973, 0.18925691,\n",
       "        0.92711519, 0.9170084 , 0.04754234, 0.44034042, 0.4044553 ],\n",
       "       [0.10822093, 0.67655759, 0.56801758, 0.34585154, 0.12614789,\n",
       "        0.14257529, 0.84909164, 0.77057113, 0.68525632, 0.67539403],\n",
       "       [0.70705468, 0.31529831, 0.28631636, 0.55347107, 0.13486161,\n",
       "        0.26725631, 0.29062371, 0.33409172, 0.42356245, 0.55570725],\n",
       "       [0.51068548, 0.24080641, 0.3399094 , 0.39767412, 0.07835692,\n",
       "        0.56191047, 0.95394708, 0.47563991, 0.8685158 , 0.61492977],\n",
       "       [0.18449254, 0.59452046, 0.76699752, 0.46812758, 0.20905263,\n",
       "        0.52033468, 0.01074678,        inf, 0.87827799, 0.60062749],\n",
       "       [0.67645043, 0.0888402 , 0.4965533 , 0.6464461 , 0.41751052,\n",
       "        0.18474698, 0.4203206 , 0.01206903, 0.07301871, 0.45986705],\n",
       "       [0.02301223, 0.6570424 , 0.79135537, 0.47284115, 0.25435822,\n",
       "        0.96517923, 0.89394002, 0.6935876 , 0.8199276 , 0.21943044],\n",
       "       [0.54236076, 0.07245882, 0.19737771, 0.74218723, 0.71002152,\n",
       "        0.51080248, 0.23718573, 0.91223826, 0.74143715, 0.76807233]])"
      ]
     },
     "execution_count": 237,
     "metadata": {},
     "output_type": "execute_result"
    }
   ],
   "source": [
    "#создаю вспомогательный массив, у которого на месте данного элемента\n",
    "#стоит заведомо большая величина\n",
    "auxiliary_array = random_array\n",
    "auxiliary_array[i, j] = np.inf\n",
    "auxiliary_array"
   ]
  },
  {
   "cell_type": "code",
   "execution_count": 238,
   "metadata": {},
   "outputs": [],
   "source": [
    "#нахожу модуль разности данного элемента и ближайшего (по величине) к данному\n",
    "diff_mod = np.min(np.sqrt((auxiliary_array - given_elem) ** 2))"
   ]
  },
  {
   "cell_type": "code",
   "execution_count": 241,
   "metadata": {},
   "outputs": [
    {
     "name": "stdout",
     "output_type": "stream",
     "text": [
      "Ближайшим элементом к данному 0.9194856628425072 является элемент 0.9170083987033502\n"
     ]
    }
   ],
   "source": [
    "#нахожу сам элемент либо суммированием, либо (если сумма отсутствует в массиве) вычитанием\n",
    "closest_elem = given_elem + diff_mod\n",
    "if random_array[random_array == closest_elem].size == 0:\n",
    "    closest_elem = given_elem - diff_mod\n",
    "\n",
    "print(f'Ближайшим элементом к данному {given_elem} является элемент {closest_elem}')"
   ]
  },
  {
   "cell_type": "markdown",
   "metadata": {},
   "source": [
    "### Упражнение 9"
   ]
  },
  {
   "cell_type": "code",
   "execution_count": 243,
   "metadata": {},
   "outputs": [],
   "source": [
    "def full_matrix(n, m, bound_value, internal_value):\n",
    "    matrix = np.full((n, m), internal_value)\n",
    "    matrix[0, :] = bound_value\n",
    "    matrix[n-1, :] = bound_value\n",
    "    matrix[:, 0] = bound_value\n",
    "    matrix[:, m-1] = bound_value\n",
    "    return matrix"
   ]
  },
  {
   "cell_type": "code",
   "execution_count": 244,
   "metadata": {},
   "outputs": [
    {
     "data": {
      "text/plain": [
       "array([[22, 22, 22, 22],\n",
       "       [22, -3, -3, 22],\n",
       "       [22, -3, -3, 22],\n",
       "       [22, -3, -3, 22],\n",
       "       [22, 22, 22, 22]])"
      ]
     },
     "execution_count": 244,
     "metadata": {},
     "output_type": "execute_result"
    }
   ],
   "source": [
    "full_matrix(5, 4, 22, -3)"
   ]
  },
  {
   "cell_type": "markdown",
   "metadata": {},
   "source": [
    "### Упражнение 10"
   ]
  },
  {
   "cell_type": "code",
   "execution_count": 274,
   "metadata": {},
   "outputs": [],
   "source": [
    "def sort_matrix(arr, col_num):\n",
    "    arr_res = np.zeros_like(arr)\n",
    "    i = 0\n",
    "    for idx in np.argsort(arr[:, col_num])[::-1]:\n",
    "        arr_res[i, :] = arr[idx, :]\n",
    "        i += 1\n",
    "    return arr_res"
   ]
  },
  {
   "cell_type": "code",
   "execution_count": 281,
   "metadata": {},
   "outputs": [
    {
     "data": {
      "text/plain": [
       "array([[13, 19,  6, 17,  7],\n",
       "       [10, 19,  5, 14, 18],\n",
       "       [ 4, 17, 14, 11, 22],\n",
       "       [13,  6, 23, 21, 16],\n",
       "       [ 9, 24,  9,  7, 12]])"
      ]
     },
     "execution_count": 281,
     "metadata": {},
     "output_type": "execute_result"
    }
   ],
   "source": [
    "arr = np.random.randint(0, 25, 25).reshape(5, 5) #задаю произвольную матрицу\n",
    "arr"
   ]
  },
  {
   "cell_type": "code",
   "execution_count": 282,
   "metadata": {},
   "outputs": [
    {
     "data": {
      "text/plain": [
       "array([[13,  6, 23, 21, 16],\n",
       "       [ 4, 17, 14, 11, 22],\n",
       "       [ 9, 24,  9,  7, 12],\n",
       "       [13, 19,  6, 17,  7],\n",
       "       [10, 19,  5, 14, 18]])"
      ]
     },
     "execution_count": 282,
     "metadata": {},
     "output_type": "execute_result"
    }
   ],
   "source": [
    "sort_matrix(arr, 2) #сортирую в соответствии с заданными условиями"
   ]
  },
  {
   "cell_type": "markdown",
   "metadata": {},
   "source": [
    "### Упражнение 11"
   ]
  },
  {
   "cell_type": "code",
   "execution_count": 325,
   "metadata": {},
   "outputs": [],
   "source": [
    "def chess_desk(n):\n",
    "    chet = n % 2\n",
    "    arr = np.arange(n**2).reshape(n, n)\n",
    "    if chet == 0:\n",
    "        for i in range(1, n + 1, 2):\n",
    "            arr[i, :] +=1\n",
    "    return np.where(arr % 2 == chet, 0, 1)"
   ]
  },
  {
   "cell_type": "code",
   "execution_count": 335,
   "metadata": {},
   "outputs": [
    {
     "data": {
      "text/plain": [
       "array([[0, 1, 0, 1, 0, 1, 0, 1, 0, 1, 0, 1],\n",
       "       [1, 0, 1, 0, 1, 0, 1, 0, 1, 0, 1, 0],\n",
       "       [0, 1, 0, 1, 0, 1, 0, 1, 0, 1, 0, 1],\n",
       "       [1, 0, 1, 0, 1, 0, 1, 0, 1, 0, 1, 0],\n",
       "       [0, 1, 0, 1, 0, 1, 0, 1, 0, 1, 0, 1],\n",
       "       [1, 0, 1, 0, 1, 0, 1, 0, 1, 0, 1, 0],\n",
       "       [0, 1, 0, 1, 0, 1, 0, 1, 0, 1, 0, 1],\n",
       "       [1, 0, 1, 0, 1, 0, 1, 0, 1, 0, 1, 0],\n",
       "       [0, 1, 0, 1, 0, 1, 0, 1, 0, 1, 0, 1],\n",
       "       [1, 0, 1, 0, 1, 0, 1, 0, 1, 0, 1, 0],\n",
       "       [0, 1, 0, 1, 0, 1, 0, 1, 0, 1, 0, 1],\n",
       "       [1, 0, 1, 0, 1, 0, 1, 0, 1, 0, 1, 0]])"
      ]
     },
     "execution_count": 335,
     "metadata": {},
     "output_type": "execute_result"
    }
   ],
   "source": [
    "chess_desk(12)"
   ]
  },
  {
   "cell_type": "markdown",
   "metadata": {},
   "source": [
    "### Упражнение 12"
   ]
  },
  {
   "cell_type": "code",
   "execution_count": 358,
   "metadata": {},
   "outputs": [],
   "source": [
    "def neighbours_sum(arr, ii, jj):\n",
    "    sum_res = 0\n",
    "    n, m = arr.shape\n",
    "    if ii == 0:\n",
    "        ii += n\n",
    "    if jj == 0:\n",
    "        jj += m\n",
    "    for i in range(3):\n",
    "        for j in range(3):\n",
    "            sum_res += arr[ii - n - 1 + i, jj - m - 1 + j]\n",
    "    return sum_res - arr[ii - n, jj - m]\n",
    "\n",
    "def generation(arr):\n",
    "    n, m = arr.shape\n",
    "    arr_res = np.zeros_like(arr)\n",
    "    for i in range(n):\n",
    "        for j in range(m):\n",
    "            n_sum = neighbours_sum(arr, i, j)\n",
    "            res = arr[i, j]\n",
    "            if (n_sum <= 1) or (n_sum > 3):\n",
    "                res = 0\n",
    "            elif n_sum == 3:\n",
    "                res = 1\n",
    "            arr_res[i, j] = res\n",
    "    return arr_res"
   ]
  },
  {
   "cell_type": "code",
   "execution_count": null,
   "metadata": {},
   "outputs": [],
   "source": [
    "current_arr = np.random.randint(0, 2, 10000).reshape(100, 100)"
   ]
  },
  {
   "cell_type": "code",
   "execution_count": null,
   "metadata": {},
   "outputs": [],
   "source": [
    "palette = np.array([[255, 255, 255],  # белый\n",
    "                   [0, 0, 0]])        # черный\n",
    "\n",
    "\n",
    "for num in np.arange(0, 20, 1):\n",
    "    \n",
    "    current_arr = generation(current_arr)\n",
    "\n",
    "    plt.figure(figsize=(6, 6))\n",
    "    plt.imshow(palette[current_arr])\n",
    "    plt.grid(False)\n",
    "    plt.show()\n",
    "    \n",
    "    display.clear_output(wait=True)\n",
    "    time.sleep(0.3)"
   ]
  }
 ],
 "metadata": {
  "kernelspec": {
   "display_name": "Python 3",
   "language": "python",
   "name": "python3"
  },
  "language_info": {
   "codemirror_mode": {
    "name": "ipython",
    "version": 3
   },
   "file_extension": ".py",
   "mimetype": "text/x-python",
   "name": "python",
   "nbconvert_exporter": "python",
   "pygments_lexer": "ipython3",
   "version": "3.7.4"
  }
 },
 "nbformat": 4,
 "nbformat_minor": 2
}
