{
 "cells": [
  {
   "cell_type": "code",
   "execution_count": 1,
   "metadata": {},
   "outputs": [],
   "source": [
    "from selenium import webdriver\n",
    "from webdriver_manager.chrome import ChromeDriverManager"
   ]
  },
  {
   "cell_type": "code",
   "execution_count": 2,
   "metadata": {},
   "outputs": [],
   "source": [
    "import time\n",
    "import pandas as pd\n",
    "from tqdm import tqdm"
   ]
  },
  {
   "cell_type": "code",
   "execution_count": 3,
   "metadata": {},
   "outputs": [],
   "source": [
    "from selenium.webdriver.common.by import By\n",
    "from selenium.webdriver.support.ui import WebDriverWait\n",
    "from selenium.webdriver.support import expected_conditions as EC"
   ]
  },
  {
   "cell_type": "code",
   "execution_count": 36,
   "metadata": {},
   "outputs": [
    {
     "name": "stdout",
     "output_type": "stream",
     "text": [
      "50\n",
      "50\n",
      "Закрыл\n",
      "50\n",
      "50\n",
      "Закрыл\n",
      "50\n",
      "50\n",
      "Закрыл\n",
      "50\n",
      "50\n",
      "Закрыл\n",
      "50\n",
      "50\n",
      "Закрыл\n",
      "Конец\n"
     ]
    }
   ],
   "source": [
    "try:\n",
    "            \n",
    "    titles_all, ratings_all = [], []\n",
    "    for page_num in range(1, 6):\n",
    "        path_CDM = './chromedriver'\n",
    "        browser = webdriver.Chrome(path_CDM)\n",
    "        url = 'https://www.kinopoisk.ru/lists/top250/?page=' + str(page_num) + '&tab=all'\n",
    "        page = browser.get(url) #Открыл \n",
    "        time.sleep(1)\n",
    "\n",
    "        titles = browser.find_elements_by_class_name('selection-film-item-meta__name')\n",
    "        print(len(titles))\n",
    "\n",
    "        ratings = browser.find_elements_by_class_name('selection-film-item-poster__rating')\n",
    "        print(len(ratings))\n",
    "\n",
    "        titles_all += [i.text for i in titles]\n",
    "        ratings_all += [i.text for i in ratings]\n",
    "        \n",
    "        time.sleep(1)\n",
    "        browser.quit()\n",
    "        print('Закрыл')\n",
    "        time.sleep(1)\n",
    "    \n",
    "except ElementClickInterceptedException:\n",
    "    print('Ошибка')\n",
    "    print(e)\n",
    "    \n",
    "finally:\n",
    "    time.sleep(1)\n",
    "    print('Конец')"
   ]
  },
  {
   "cell_type": "code",
   "execution_count": 38,
   "metadata": {},
   "outputs": [
    {
     "data": {
      "text/html": [
       "<div>\n",
       "<style scoped>\n",
       "    .dataframe tbody tr th:only-of-type {\n",
       "        vertical-align: middle;\n",
       "    }\n",
       "\n",
       "    .dataframe tbody tr th {\n",
       "        vertical-align: top;\n",
       "    }\n",
       "\n",
       "    .dataframe thead th {\n",
       "        text-align: right;\n",
       "    }\n",
       "</style>\n",
       "<table border=\"1\" class=\"dataframe\">\n",
       "  <thead>\n",
       "    <tr style=\"text-align: right;\">\n",
       "      <th></th>\n",
       "      <th>titles</th>\n",
       "      <th>ratings</th>\n",
       "    </tr>\n",
       "  </thead>\n",
       "  <tbody>\n",
       "    <tr>\n",
       "      <td>245</td>\n",
       "      <td>Знакомьтесь, Джо Блэк</td>\n",
       "      <td>8.0</td>\n",
       "    </tr>\n",
       "    <tr>\n",
       "      <td>246</td>\n",
       "      <td>Огни большого города</td>\n",
       "      <td>8.5</td>\n",
       "    </tr>\n",
       "    <tr>\n",
       "      <td>247</td>\n",
       "      <td>За бортом</td>\n",
       "      <td>8.0</td>\n",
       "    </tr>\n",
       "    <tr>\n",
       "      <td>248</td>\n",
       "      <td>Звёздные войны: Эпизод 1 – Скрытая угроза</td>\n",
       "      <td>7.9</td>\n",
       "    </tr>\n",
       "    <tr>\n",
       "      <td>249</td>\n",
       "      <td>Такси</td>\n",
       "      <td>7.9</td>\n",
       "    </tr>\n",
       "  </tbody>\n",
       "</table>\n",
       "</div>"
      ],
      "text/plain": [
       "                                        titles ratings\n",
       "245                      Знакомьтесь, Джо Блэк     8.0\n",
       "246                       Огни большого города     8.5\n",
       "247                                  За бортом     8.0\n",
       "248  Звёздные войны: Эпизод 1 – Скрытая угроза     7.9\n",
       "249                                      Такси     7.9"
      ]
     },
     "execution_count": 38,
     "metadata": {},
     "output_type": "execute_result"
    }
   ],
   "source": [
    "data_dict = {\"titles\" :titles_all,\n",
    "            \"ratings\": ratings_all}\n",
    "\n",
    "parsed_data = pd.DataFrame(data_dict)\n",
    "parsed_data.tail()"
   ]
  }
 ],
 "metadata": {
  "kernelspec": {
   "display_name": "Python 3",
   "language": "python",
   "name": "python3"
  },
  "language_info": {
   "codemirror_mode": {
    "name": "ipython",
    "version": 3
   },
   "file_extension": ".py",
   "mimetype": "text/x-python",
   "name": "python",
   "nbconvert_exporter": "python",
   "pygments_lexer": "ipython3",
   "version": "3.7.4"
  }
 },
 "nbformat": 4,
 "nbformat_minor": 2
}
